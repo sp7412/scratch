{
  "nbformat": 4,
  "nbformat_minor": 0,
  "metadata": {
    "colab": {
      "name": "resnet.ipynb",
      "provenance": [],
      "collapsed_sections": [],
      "machine_shape": "hm",
      "include_colab_link": true
    },
    "kernelspec": {
      "name": "python3",
      "display_name": "Python 3"
    },
    "accelerator": "GPU"
  },
  "cells": [
    {
      "cell_type": "markdown",
      "metadata": {
        "id": "view-in-github",
        "colab_type": "text"
      },
      "source": [
        "<a href=\"https://colab.research.google.com/github/sp7412/scratch/blob/master/resnet.ipynb\" target=\"_parent\"><img src=\"https://colab.research.google.com/assets/colab-badge.svg\" alt=\"Open In Colab\"/></a>"
      ]
    },
    {
      "cell_type": "code",
      "metadata": {
        "id": "q7Bfz9KiRKaG",
        "colab_type": "code",
        "outputId": "46dec771-993b-4acd-ec0a-69b442fc3bd4",
        "colab": {
          "base_uri": "https://localhost:8080/",
          "height": 35
        }
      },
      "source": [
        "# import modules\n",
        "from IPython.display import display, clear_output\n",
        "import numpy as np\n",
        "import os\n",
        "\n",
        "print('S I G N A L   C L A S S I F I E R') "
      ],
      "execution_count": 1,
      "outputs": [
        {
          "output_type": "stream",
          "text": [
            "S I G N A L   C L A S S I F I E R\n"
          ],
          "name": "stdout"
        }
      ]
    },
    {
      "cell_type": "markdown",
      "metadata": {
        "id": "Hqph97k-UTH0",
        "colab_type": "text"
      },
      "source": [
        "<h1>Identify Classes of Signals</h1>"
      ]
    },
    {
      "cell_type": "code",
      "metadata": {
        "id": "6owjJmw1SVmf",
        "colab_type": "code",
        "colab": {}
      },
      "source": [
        "# import classes from .txt file \n",
        "classes = ['32PSK',\n",
        " '16APSK',\n",
        " '32QAM',\n",
        " 'FM',\n",
        " 'GMSK',\n",
        " '32APSK',\n",
        " 'OQPSK', #1\n",
        " '8ASK',\n",
        " 'BPSK',\n",
        " '8PSK',\n",
        " 'AM-SSB-SC',\n",
        " '4ASK',\n",
        " '16PSK',\n",
        " '64APSK',\n",
        " '128QAM',\n",
        " '128APSK',\n",
        " 'AM-DSB-SC', #2\n",
        " 'AM-SSB-WC',\n",
        " '64QAM',\n",
        " 'QPSK',\n",
        " '256QAM',\n",
        " 'AM-DSB-WC',\n",
        " 'OOK',\n",
        " '16QAM']"
      ],
      "execution_count": 0,
      "outputs": []
    },
    {
      "cell_type": "code",
      "metadata": {
        "id": "idIgfOl_2WHQ",
        "colab_type": "code",
        "colab": {
          "base_uri": "https://localhost:8080/",
          "height": 1000
        },
        "outputId": "9d1b8063-4099-4df5-f747-b6979626f15b"
      },
      "source": [
        "\n",
        "!wget --no-check-certificate -r 'https://drive.google.com/u/0/uc?export=download&confirm=LmSJ&id=1vrzz1Dbf98E-Q79-3CFjGNS7sw1HJVM6' -O dataset.zip"
      ],
      "execution_count": 12,
      "outputs": [
        {
          "output_type": "stream",
          "text": [
            "WARNING: combining -O with -r or -p will mean that all downloaded content\n",
            "will be placed in the single file you specified.\n",
            "\n",
            "--2020-05-28 20:10:47--  https://drive.google.com/u/0/uc?export=download&confirm=LmSJ&id=1vrzz1Dbf98E-Q79-3CFjGNS7sw1HJVM6\n",
            "Resolving drive.google.com (drive.google.com)... 173.194.216.138, 173.194.216.113, 173.194.216.100, ...\n",
            "Connecting to drive.google.com (drive.google.com)|173.194.216.138|:443... connected.\n",
            "HTTP request sent, awaiting response... 200 OK\n",
            "Length: unspecified [text/html]\n",
            "Saving to: ‘dataset.zip’\n",
            "\n",
            "\rdataset.zip             [<=>                 ]       0  --.-KB/s               \rdataset.zip             [ <=>                ]   3.19K  --.-KB/s    in 0s      \n",
            "\n",
            "2020-05-28 20:10:47 (45.6 MB/s) - ‘dataset.zip’ saved [3270]\n",
            "\n",
            "Loading robots.txt; please ignore errors.\n",
            "--2020-05-28 20:10:47--  https://drive.google.com/robots.txt\n",
            "Reusing existing connection to drive.google.com:443.\n",
            "HTTP request sent, awaiting response... 200 OK\n",
            "Length: unspecified [text/plain]\n",
            "Saving to: ‘dataset.zip’\n",
            "\n",
            "\rdataset.zip             [<=>                 ]       0  --.-KB/s               \rdataset.zip             [ <=>                ]     570  --.-KB/s    in 0s      \n",
            "\n",
            "2020-05-28 20:10:47 (72.6 MB/s) - ‘dataset.zip’ saved [570]\n",
            "\n",
            "--2020-05-28 20:10:47--  https://drive.google.com/static/doclist/client/css/1659352109-untrustedcontent.css\n",
            "Reusing existing connection to drive.google.com:443.\n",
            "HTTP request sent, awaiting response... 200 OK\n",
            "Length: 273208 (267K) [text/css]\n",
            "Saving to: ‘dataset.zip’\n",
            "\n",
            "\rdataset.zip           0%[                    ]       0  --.-KB/s               \rdataset.zip         100%[===================>] 266.80K  --.-KB/s    in 0.004s  \n",
            "\n",
            "2020-05-28 20:10:47 (66.9 MB/s) - ‘dataset.zip’ saved [273208/273208]\n",
            "\n",
            "--2020-05-28 20:10:47--  https://drive.google.com/settings?hl=en_US\n",
            "Reusing existing connection to drive.google.com:443.\n",
            "HTTP request sent, awaiting response... 302 Found\n",
            "Location: https://accounts.google.com/ServiceLogin?service=wise&passive=1209600&continue=https://drive.google.com/settings?hl%3Den_US&followup=https://drive.google.com/settings?hl%3Den_US&hl=en_US [following]\n",
            "--2020-05-28 20:10:47--  https://accounts.google.com/ServiceLogin?service=wise&passive=1209600&continue=https://drive.google.com/settings?hl%3Den_US&followup=https://drive.google.com/settings?hl%3Den_US&hl=en_US\n",
            "Resolving accounts.google.com (accounts.google.com)... 172.217.203.84, 2607:f8b0:400c:c07::54\n",
            "Connecting to accounts.google.com (accounts.google.com)|172.217.203.84|:443... connected.\n",
            "HTTP request sent, awaiting response... 200 OK\n",
            "Length: unspecified [text/html]\n",
            "Saving to: ‘dataset.zip’\n",
            "\n",
            "\rdataset.zip             [<=>                 ]       0  --.-KB/s               \rdataset.zip             [ <=>                ]  57.47K  --.-KB/s    in 0.001s  \n",
            "\n",
            "2020-05-28 20:10:47 (53.6 MB/s) - ‘dataset.zip’ saved [58848]\n",
            "\n",
            "--2020-05-28 20:10:47--  https://drive.google.com/open?id=1vrzz1Dbf98E-Q79-3CFjGNS7sw1HJVM6\n",
            "Connecting to drive.google.com (drive.google.com)|173.194.216.138|:443... connected.\n",
            "HTTP request sent, awaiting response... 307 Temporary Redirect\n",
            "Location: https://drive.google.com/file/d/1vrzz1Dbf98E-Q79-3CFjGNS7sw1HJVM6/view?usp=drive_open [following]\n",
            "--2020-05-28 20:10:47--  https://drive.google.com/file/d/1vrzz1Dbf98E-Q79-3CFjGNS7sw1HJVM6/view?usp=drive_open\n",
            "Reusing existing connection to drive.google.com:443.\n",
            "HTTP request sent, awaiting response... 200 OK\n",
            "Length: unspecified [text/html]\n",
            "Saving to: ‘dataset.zip’\n",
            "\n",
            "dataset.zip             [ <=>                ]  69.14K  --.-KB/s    in 0.008s  \n",
            "\n",
            "2020-05-28 20:10:47 (8.91 MB/s) - ‘dataset.zip’ saved [70796]\n",
            "\n",
            "--2020-05-28 20:10:47--  https://drive.google.com/uc?export=download&confirm=cgXG&id=1vrzz1Dbf98E-Q79-3CFjGNS7sw1HJVM6\n",
            "Reusing existing connection to drive.google.com:443.\n",
            "HTTP request sent, awaiting response... 200 OK\n",
            "Length: unspecified [text/html]\n",
            "Saving to: ‘dataset.zip’\n",
            "\n",
            "dataset.zip             [ <=>                ]   3.19K  --.-KB/s    in 0s      \n",
            "\n",
            "2020-05-28 20:10:47 (53.1 MB/s) - ‘dataset.zip’ saved [3266]\n",
            "\n",
            "--2020-05-28 20:10:47--  https://drive.google.com/uc?export=download&confirm=4WlX&id=1vrzz1Dbf98E-Q79-3CFjGNS7sw1HJVM6\n",
            "Reusing existing connection to drive.google.com:443.\n",
            "HTTP request sent, awaiting response... 302 Moved Temporarily\n",
            "Location: https://doc-0c-cc-docs.googleusercontent.com/docs/securesc/5uu9jquf1o3jgfdvrqfqvnuumk85aj9o/utoqdh0ular6bjnjq6due7cmfmkhs8ul/1590696600000/15068553504063793675/10569451828241354972Z/1vrzz1Dbf98E-Q79-3CFjGNS7sw1HJVM6?e=download [following]\n",
            "--2020-05-28 20:10:47--  https://doc-0c-cc-docs.googleusercontent.com/docs/securesc/5uu9jquf1o3jgfdvrqfqvnuumk85aj9o/utoqdh0ular6bjnjq6due7cmfmkhs8ul/1590696600000/15068553504063793675/10569451828241354972Z/1vrzz1Dbf98E-Q79-3CFjGNS7sw1HJVM6?e=download\n",
            "Resolving doc-0c-cc-docs.googleusercontent.com (doc-0c-cc-docs.googleusercontent.com)... 173.194.217.132, 2607:f8b0:400c:c13::84\n",
            "Connecting to doc-0c-cc-docs.googleusercontent.com (doc-0c-cc-docs.googleusercontent.com)|173.194.217.132|:443... connected.\n",
            "HTTP request sent, awaiting response... 302 Found\n",
            "Location: https://docs.google.com/nonceSigner?nonce=h48anklj68f2u&continue=https://doc-0c-cc-docs.googleusercontent.com/docs/securesc/5uu9jquf1o3jgfdvrqfqvnuumk85aj9o/utoqdh0ular6bjnjq6due7cmfmkhs8ul/1590696600000/15068553504063793675/10569451828241354972Z/1vrzz1Dbf98E-Q79-3CFjGNS7sw1HJVM6?e%3Ddownload&hash=64318e8rdpc4q9kn51igteool7tno5va [following]\n",
            "--2020-05-28 20:10:48--  https://docs.google.com/nonceSigner?nonce=h48anklj68f2u&continue=https://doc-0c-cc-docs.googleusercontent.com/docs/securesc/5uu9jquf1o3jgfdvrqfqvnuumk85aj9o/utoqdh0ular6bjnjq6due7cmfmkhs8ul/1590696600000/15068553504063793675/10569451828241354972Z/1vrzz1Dbf98E-Q79-3CFjGNS7sw1HJVM6?e%3Ddownload&hash=64318e8rdpc4q9kn51igteool7tno5va\n",
            "Resolving docs.google.com (docs.google.com)... 172.217.203.138, 172.217.203.101, 172.217.203.139, ...\n",
            "Connecting to docs.google.com (docs.google.com)|172.217.203.138|:443... connected.\n",
            "HTTP request sent, awaiting response... 302 Found\n",
            "Location: https://doc-0c-cc-docs.googleusercontent.com/docs/securesc/5uu9jquf1o3jgfdvrqfqvnuumk85aj9o/utoqdh0ular6bjnjq6due7cmfmkhs8ul/1590696600000/15068553504063793675/10569451828241354972Z/1vrzz1Dbf98E-Q79-3CFjGNS7sw1HJVM6?e=download&nonce=h48anklj68f2u&user=10569451828241354972Z&hash=u3012osvj161sfqn6ffstlnpfkkh0vtv [following]\n",
            "--2020-05-28 20:10:48--  https://doc-0c-cc-docs.googleusercontent.com/docs/securesc/5uu9jquf1o3jgfdvrqfqvnuumk85aj9o/utoqdh0ular6bjnjq6due7cmfmkhs8ul/1590696600000/15068553504063793675/10569451828241354972Z/1vrzz1Dbf98E-Q79-3CFjGNS7sw1HJVM6?e=download&nonce=h48anklj68f2u&user=10569451828241354972Z&hash=u3012osvj161sfqn6ffstlnpfkkh0vtv\n",
            "Connecting to doc-0c-cc-docs.googleusercontent.com (doc-0c-cc-docs.googleusercontent.com)|173.194.217.132|:443... connected.\n",
            "HTTP request sent, awaiting response... 200 OK\n",
            "Length: unspecified [application/zip]\n",
            "Saving to: ‘dataset.zip’\n",
            "\n",
            "dataset.zip             [    <=>             ]   9.03G  78.7MB/s    in 3m 32s  \n",
            "\n",
            "2020-05-28 20:14:20 (43.5 MB/s) - ‘dataset.zip’ saved [9700213366]\n",
            "\n",
            "FINISHED --2020-05-28 20:14:20--\n",
            "Total wall clock time: 3m 33s\n",
            "Downloaded: 7 files, 9.0G in 3m 32s (43.5 MB/s)\n"
          ],
          "name": "stdout"
        }
      ]
    },
    {
      "cell_type": "code",
      "metadata": {
        "id": "JU35SxOrTCRd",
        "colab_type": "code",
        "colab": {
          "base_uri": "https://localhost:8080/",
          "height": 345
        },
        "outputId": "620028f7-f3ea-46ee-a502-6a0fda45b002"
      },
      "source": [
        "!unzip ./dataset.zip"
      ],
      "execution_count": 14,
      "outputs": [
        {
          "output_type": "stream",
          "text": [
            "Archive:  ./dataset.zip\n",
            "error: End-of-centdir-64 signature not where expected (prepended bytes?)\n",
            "  (attempting to process anyway)\n",
            "warning [./dataset.zip]:  409958 extra bytes at beginning or within zipfile\n",
            "  (attempting to process anyway)\n",
            "   creating: signal_dataset/\n",
            "   creating: signal_dataset/test/\n",
            "  inflating: signal_dataset/test/signals.npy  \n",
            "  inflating: signal_dataset/test/snrs.npy  \n",
            "  inflating: signal_dataset/test/labels.npy  \n",
            "   creating: signal_dataset/validation/\n",
            "  inflating: signal_dataset/validation/signals.npy  \n",
            "  inflating: signal_dataset/validation/snrs.npy  \n",
            "  inflating: signal_dataset/validation/labels.npy  \n",
            "   creating: signal_dataset/train/\n",
            "  inflating: signal_dataset/train/signals.npy  \n",
            "  inflating: signal_dataset/train/snrs.npy  \n",
            "  inflating: signal_dataset/train/labels.npy  \n"
          ],
          "name": "stdout"
        }
      ]
    },
    {
      "cell_type": "code",
      "metadata": {
        "id": "p50jrqrR-Bp2",
        "colab_type": "code",
        "colab": {
          "base_uri": "https://localhost:8080/",
          "height": 54
        },
        "outputId": "25a5c313-ccf0-450d-efe8-ee92e0cada68"
      },
      "source": [
        "!ls /content/signal_dataset/\n",
        "!pwd"
      ],
      "execution_count": 22,
      "outputs": [
        {
          "output_type": "stream",
          "text": [
            "test  train  validation\n",
            "/content\n"
          ],
          "name": "stdout"
        }
      ]
    },
    {
      "cell_type": "markdown",
      "metadata": {
        "id": "KLGOqVgwUYRV",
        "colab_type": "text"
      },
      "source": [
        "<h1>Import Signal Data</h1>"
      ]
    },
    {
      "cell_type": "code",
      "metadata": {
        "id": "2zjZu2vlSbAQ",
        "colab_type": "code",
        "outputId": "b33afc62-89e0-42e0-fb45-863b01748120",
        "colab": {
          "base_uri": "https://localhost:8080/",
          "height": 235
        }
      },
      "source": [
        "path = '/content/signal_dataset/'\n",
        "\n",
        "# load training data\n",
        "print('Loading training data ...')\n",
        "x_train = np.load(path + 'train/signals.npy')\n",
        "y_train = np.load(path + 'train/labels.npy')\n",
        "snr_train = np.load(path + 'train/snrs.npy')\n",
        "print('Load complete!')\n",
        "print('\\n')\n",
        "\n",
        "# load validation data\n",
        "print('Loading validation data ...')\n",
        "x_val = np.load(path + 'validation/signals.npy')\n",
        "y_val = np.load(path + 'validation/labels.npy')\n",
        "snr_val = np.load(path + 'validation/snrs.npy')\n",
        "print('Load complete!')\n",
        "print('\\n')\n",
        "\n",
        "# load testing data\n",
        "print('Loading testing data ...')\n",
        "x_test = np.load(path + 'test/signals.npy')\n",
        "y_test = np.load(path + 'test/labels.npy')\n",
        "snr_test = np.load(path + 'test/snrs.npy')\n",
        "print('Load complete!')\n",
        "print('\\n')"
      ],
      "execution_count": 23,
      "outputs": [
        {
          "output_type": "stream",
          "text": [
            "Loading training data ...\n",
            "Load complete!\n",
            "\n",
            "\n",
            "Loading validation data ...\n",
            "Load complete!\n",
            "\n",
            "\n",
            "Loading testing data ...\n",
            "Load complete!\n",
            "\n",
            "\n"
          ],
          "name": "stdout"
        }
      ]
    },
    {
      "cell_type": "markdown",
      "metadata": {
        "id": "Wo5dLhnSUDTf",
        "colab_type": "text"
      },
      "source": [
        "<h1>Import Deep Learning Libraries</h1>"
      ]
    },
    {
      "cell_type": "code",
      "metadata": {
        "id": "Qc8lcT1YWUk_",
        "colab_type": "code",
        "outputId": "16c3d8a4-7297-4789-8a3a-cda4470a4705",
        "colab": {
          "base_uri": "https://localhost:8080/",
          "height": 35
        }
      },
      "source": [
        "# import deep learning libraries\n",
        "import os\n",
        "import keras\n",
        "from keras import layers\n",
        "from keras.utils import to_categorical\n",
        "from keras.models import Model, load_model\n",
        "from keras.initializers import glorot_uniform\n",
        "from keras.layers import Input, Dropout, Add, Dense, Reshape, Activation\n",
        "from keras.layers import BatchNormalization, Flatten, Conv1D, MaxPooling1D"
      ],
      "execution_count": 24,
      "outputs": [
        {
          "output_type": "stream",
          "text": [
            "Using TensorFlow backend.\n"
          ],
          "name": "stderr"
        }
      ]
    },
    {
      "cell_type": "markdown",
      "metadata": {
        "id": "yPA4rvUJUkKX",
        "colab_type": "text"
      },
      "source": [
        "<h1>Create Residual Stack</h1>"
      ]
    },
    {
      "cell_type": "code",
      "metadata": {
        "id": "oFJA8_jFWeKc",
        "colab_type": "code",
        "colab": {}
      },
      "source": [
        "# 1d conv resnet\n",
        "def residual_stack(x, f):\n",
        "    # 1x1 conv linear\n",
        "    x = Conv1D(f, 1, strides=1, padding='same', data_format='channels_last')(x)\n",
        "    x = Activation('linear')(x)\n",
        "    \n",
        "    # residual unit 1    \n",
        "    x_shortcut = x\n",
        "    x = Conv1D(f, 3, strides=1, padding=\"same\", data_format='channels_last')(x)\n",
        "    x = Activation('relu')(x)\n",
        "    x = Conv1D(f, 3, strides=1, padding=\"same\", data_format='channels_last')(x)\n",
        "    x = Activation('linear')(x)\n",
        "    # add skip connection\n",
        "    if x.shape[1:] == x_shortcut.shape[1:]:\n",
        "      x = Add()([x, x_shortcut])\n",
        "    else:\n",
        "      raise Exception('Skip Connection Failure!')\n",
        "      \n",
        "    # residual unit 2    \n",
        "    x_shortcut = x\n",
        "    x = Conv1D(f, 3, strides=1, padding=\"same\", data_format='channels_last')(x)\n",
        "    x = Activation('relu')(x)\n",
        "    x = Conv1D(f, 3, strides = 1, padding = \"same\", data_format='channels_last')(x)\n",
        "    x = Activation('linear')(x)\n",
        "    # add skip connection\n",
        "    if x.shape[1:] == x_shortcut.shape[1:]:\n",
        "      x = Add()([x, x_shortcut])\n",
        "    else:\n",
        "      raise Exception('Skip Connection Failure!')\n",
        "      \n",
        "    # max pooling layer\n",
        "    x = MaxPooling1D(pool_size=2, strides=None, padding='valid', data_format='channels_last')(x)\n",
        "    return x"
      ],
      "execution_count": 0,
      "outputs": []
    },
    {
      "cell_type": "markdown",
      "metadata": {
        "id": "tEP7KGKxUqVI",
        "colab_type": "text"
      },
      "source": [
        "<h1>Define ResNet Model</h1>"
      ]
    },
    {
      "cell_type": "code",
      "metadata": {
        "id": "IeoHEBPw3MJ2",
        "colab_type": "code",
        "colab": {}
      },
      "source": [
        "# define resnet model\n",
        "def ResNet(input_shape, classes):   \n",
        "    # create input tensor\n",
        "    x_input = Input(input_shape)\n",
        "    x = x_input\n",
        "    # residual stack\n",
        "    num_filters = 40\n",
        "    x = residual_stack(x, num_filters)\n",
        "    x = residual_stack(x, num_filters)\n",
        "    x = residual_stack(x, num_filters)\n",
        "    x = residual_stack(x, num_filters)\n",
        "    x = residual_stack(x, num_filters)\n",
        "    \n",
        "    # output layer\n",
        "    x = Flatten()(x)\n",
        "    x = Dense(128, activation=\"selu\", kernel_initializer=\"he_normal\")(x)\n",
        "    x = Dropout(.5)(x)\n",
        "    x = Dense(128, activation=\"selu\", kernel_initializer=\"he_normal\")(x)\n",
        "    x = Dropout(.5)(x)\n",
        "    x = Dense(classes , activation='softmax', kernel_initializer = glorot_uniform(seed=0))(x)\n",
        "    \n",
        "    # Create model\n",
        "    model = Model(inputs = x_input, outputs = x)\n",
        "\n",
        "    return model"
      ],
      "execution_count": 0,
      "outputs": []
    },
    {
      "cell_type": "markdown",
      "metadata": {
        "id": "CjTjrpsoUvMB",
        "colab_type": "text"
      },
      "source": [
        "<h1>Option to Save Model Weights and History</h1>"
      ]
    },
    {
      "cell_type": "code",
      "metadata": {
        "id": "9tcLb6ltXwGD",
        "colab_type": "code",
        "colab": {}
      },
      "source": [
        "# option to save model weights and model history\n",
        "save_model = False\n",
        "save_history = False\n",
        "\n",
        "# create directory for model weights\n",
        "if save_model is True:\n",
        "    weights_path = input(\"Name model weights directory: \")\n",
        "    weights_path = \"data/weights/\" + weights_path\n",
        "\n",
        "    try:\n",
        "        os.mkdir(weights_path)\n",
        "    except OSError:\n",
        "        print (\"Creation of the directory %s failed\" % weights_path)\n",
        "    else:\n",
        "        print (\"Successfully created the directory %s \" % weights_path)\n",
        "    print('\\n')\n",
        "    \n",
        "\n",
        "# create directory for model history\n",
        "if save_history is True:\n",
        "    history_path = input(\"Name model history directory: \")\n",
        "    history_path = \"data/model_history/\" + history_path\n",
        "\n",
        "    try:\n",
        "        os.mkdir(history_path)\n",
        "    except OSError:\n",
        "        print (\"Creation of the directory %s failed\" % history_path)\n",
        "    else:\n",
        "        print (\"Successfully created the directory %s \" % history_path)\n",
        "    print('\\n')"
      ],
      "execution_count": 0,
      "outputs": []
    },
    {
      "cell_type": "markdown",
      "metadata": {
        "id": "X8NYlpGkU18y",
        "colab_type": "text"
      },
      "source": [
        "<h1>Set Model Parameters</h1>"
      ]
    },
    {
      "cell_type": "code",
      "metadata": {
        "id": "NOn997XlalYM",
        "colab_type": "code",
        "outputId": "f50b1967-67d9-4537-caa3-6b3e557f1ba4",
        "colab": {
          "base_uri": "https://localhost:8080/",
          "height": 34
        }
      },
      "source": [
        "# reshape input data\n",
        "x_train = x_train.reshape([-1, 1024, 2])\n",
        "x_val = x_val.reshape([-1, 1024, 2])\n",
        "x_test = x_test.reshape([-1, 1024, 2])\n",
        "\n",
        "# initialize optimizer \n",
        "adm = keras.optimizers.Adam(lr=0.0001, beta_1=0.9, beta_2=0.999, epsilon=None, decay=0.0, amsgrad=False)\n",
        "\n",
        "# set number of epochs\n",
        "num_epochs = input('Enter number of epochs: ')\n",
        "num_epochs = int(num_epochs)\n",
        "\n",
        "# set batch size\n",
        "batch = 32\n",
        "\n",
        "# configure weights save\n",
        "\n",
        "if save_model is True:\n",
        "    filepath= weights_path + \"/{epoch}.hdf5\"\n",
        "    checkpoint = keras.callbacks.ModelCheckpoint(filepath, monitor='val_acc', verbose=1, save_best_only=False, mode=\"auto\")\n",
        "    callbacks_list = [checkpoint]\n",
        "else:\n",
        "    callbacks_list = []"
      ],
      "execution_count": 0,
      "outputs": [
        {
          "output_type": "stream",
          "text": [
            "Enter number of epochs: 10\n"
          ],
          "name": "stdout"
        }
      ]
    },
    {
      "cell_type": "markdown",
      "metadata": {
        "id": "rXs1nLUuU8Ed",
        "colab_type": "text"
      },
      "source": [
        "<h1>Print Model Summary and Train Network</h1>"
      ]
    },
    {
      "cell_type": "code",
      "metadata": {
        "id": "IlV8eeccD0It",
        "colab_type": "code",
        "outputId": "e0641efa-3cc3-47c2-b78a-ec194ce28b8a",
        "colab": {
          "base_uri": "https://localhost:8080/",
          "height": 1000
        }
      },
      "source": [
        "# initialize and train model\n",
        "model = ResNet((1024, 2), 24)\n",
        "model.compile(optimizer=adm, loss='categorical_crossentropy', metrics=['accuracy'])\n",
        "model.summary()\n",
        "history = model.fit(x_train, y_train, epochs = num_epochs, batch_size = batch, callbacks=callbacks_list, validation_data=(x_val, y_val))"
      ],
      "execution_count": 0,
      "outputs": [
        {
          "output_type": "stream",
          "text": [
            "WARNING: Logging before flag parsing goes to stderr.\n",
            "W0903 22:04:53.832963 140633456527104 deprecation_wrapper.py:119] From /usr/local/lib/python3.5/dist-packages/keras/backend/tensorflow_backend.py:74: The name tf.get_default_graph is deprecated. Please use tf.compat.v1.get_default_graph instead.\n",
            "\n",
            "W0903 22:04:53.835044 140633456527104 deprecation_wrapper.py:119] From /usr/local/lib/python3.5/dist-packages/keras/backend/tensorflow_backend.py:517: The name tf.placeholder is deprecated. Please use tf.compat.v1.placeholder instead.\n",
            "\n",
            "W0903 22:04:53.839077 140633456527104 deprecation_wrapper.py:119] From /usr/local/lib/python3.5/dist-packages/keras/backend/tensorflow_backend.py:4138: The name tf.random_uniform is deprecated. Please use tf.random.uniform instead.\n",
            "\n",
            "W0903 22:04:53.931131 140633456527104 deprecation_wrapper.py:119] From /usr/local/lib/python3.5/dist-packages/keras/backend/tensorflow_backend.py:3976: The name tf.nn.max_pool is deprecated. Please use tf.nn.max_pool2d instead.\n",
            "\n",
            "W0903 22:04:54.402004 140633456527104 deprecation_wrapper.py:119] From /usr/local/lib/python3.5/dist-packages/keras/backend/tensorflow_backend.py:4185: The name tf.truncated_normal is deprecated. Please use tf.random.truncated_normal instead.\n",
            "\n",
            "W0903 22:04:54.415914 140633456527104 deprecation.py:323] From /usr/local/lib/python3.5/dist-packages/keras/backend/tensorflow_backend.py:3217: add_dispatch_support.<locals>.wrapper (from tensorflow.python.ops.array_ops) is deprecated and will be removed in a future version.\n",
            "Instructions for updating:\n",
            "Use tf.where in 2.0, which has the same broadcast rule as np.where\n",
            "W0903 22:04:54.419566 140633456527104 deprecation_wrapper.py:119] From /usr/local/lib/python3.5/dist-packages/keras/backend/tensorflow_backend.py:133: The name tf.placeholder_with_default is deprecated. Please use tf.compat.v1.placeholder_with_default instead.\n",
            "\n",
            "W0903 22:04:54.427296 140633456527104 deprecation.py:506] From /usr/local/lib/python3.5/dist-packages/keras/backend/tensorflow_backend.py:3445: calling dropout (from tensorflow.python.ops.nn_ops) with keep_prob is deprecated and will be removed in a future version.\n",
            "Instructions for updating:\n",
            "Please use `rate` instead of `keep_prob`. Rate should be set to `rate = 1 - keep_prob`.\n",
            "W0903 22:04:54.480009 140633456527104 deprecation_wrapper.py:119] From /usr/local/lib/python3.5/dist-packages/keras/optimizers.py:790: The name tf.train.Optimizer is deprecated. Please use tf.compat.v1.train.Optimizer instead.\n",
            "\n"
          ],
          "name": "stderr"
        },
        {
          "output_type": "stream",
          "text": [
            "__________________________________________________________________________________________________\n",
            "Layer (type)                    Output Shape         Param #     Connected to                     \n",
            "==================================================================================================\n",
            "input_1 (InputLayer)            (None, 1024, 2)      0                                            \n",
            "__________________________________________________________________________________________________\n",
            "conv1d_1 (Conv1D)               (None, 1024, 40)     120         input_1[0][0]                    \n",
            "__________________________________________________________________________________________________\n",
            "activation_1 (Activation)       (None, 1024, 40)     0           conv1d_1[0][0]                   \n",
            "__________________________________________________________________________________________________\n",
            "conv1d_2 (Conv1D)               (None, 1024, 40)     4840        activation_1[0][0]               \n",
            "__________________________________________________________________________________________________\n",
            "activation_2 (Activation)       (None, 1024, 40)     0           conv1d_2[0][0]                   \n",
            "__________________________________________________________________________________________________\n",
            "conv1d_3 (Conv1D)               (None, 1024, 40)     4840        activation_2[0][0]               \n",
            "__________________________________________________________________________________________________\n",
            "activation_3 (Activation)       (None, 1024, 40)     0           conv1d_3[0][0]                   \n",
            "__________________________________________________________________________________________________\n",
            "add_1 (Add)                     (None, 1024, 40)     0           activation_3[0][0]               \n",
            "                                                                 activation_1[0][0]               \n",
            "__________________________________________________________________________________________________\n",
            "conv1d_4 (Conv1D)               (None, 1024, 40)     4840        add_1[0][0]                      \n",
            "__________________________________________________________________________________________________\n",
            "activation_4 (Activation)       (None, 1024, 40)     0           conv1d_4[0][0]                   \n",
            "__________________________________________________________________________________________________\n",
            "conv1d_5 (Conv1D)               (None, 1024, 40)     4840        activation_4[0][0]               \n",
            "__________________________________________________________________________________________________\n",
            "activation_5 (Activation)       (None, 1024, 40)     0           conv1d_5[0][0]                   \n",
            "__________________________________________________________________________________________________\n",
            "add_2 (Add)                     (None, 1024, 40)     0           activation_5[0][0]               \n",
            "                                                                 add_1[0][0]                      \n",
            "__________________________________________________________________________________________________\n",
            "max_pooling1d_1 (MaxPooling1D)  (None, 512, 40)      0           add_2[0][0]                      \n",
            "__________________________________________________________________________________________________\n",
            "conv1d_6 (Conv1D)               (None, 512, 40)      1640        max_pooling1d_1[0][0]            \n",
            "__________________________________________________________________________________________________\n",
            "activation_6 (Activation)       (None, 512, 40)      0           conv1d_6[0][0]                   \n",
            "__________________________________________________________________________________________________\n",
            "conv1d_7 (Conv1D)               (None, 512, 40)      4840        activation_6[0][0]               \n",
            "__________________________________________________________________________________________________\n",
            "activation_7 (Activation)       (None, 512, 40)      0           conv1d_7[0][0]                   \n",
            "__________________________________________________________________________________________________\n",
            "conv1d_8 (Conv1D)               (None, 512, 40)      4840        activation_7[0][0]               \n",
            "__________________________________________________________________________________________________\n",
            "activation_8 (Activation)       (None, 512, 40)      0           conv1d_8[0][0]                   \n",
            "__________________________________________________________________________________________________\n",
            "add_3 (Add)                     (None, 512, 40)      0           activation_8[0][0]               \n",
            "                                                                 activation_6[0][0]               \n",
            "__________________________________________________________________________________________________\n",
            "conv1d_9 (Conv1D)               (None, 512, 40)      4840        add_3[0][0]                      \n",
            "__________________________________________________________________________________________________\n",
            "activation_9 (Activation)       (None, 512, 40)      0           conv1d_9[0][0]                   \n",
            "__________________________________________________________________________________________________\n",
            "conv1d_10 (Conv1D)              (None, 512, 40)      4840        activation_9[0][0]               \n",
            "__________________________________________________________________________________________________\n",
            "activation_10 (Activation)      (None, 512, 40)      0           conv1d_10[0][0]                  \n",
            "__________________________________________________________________________________________________\n",
            "add_4 (Add)                     (None, 512, 40)      0           activation_10[0][0]              \n",
            "                                                                 add_3[0][0]                      \n",
            "__________________________________________________________________________________________________\n",
            "max_pooling1d_2 (MaxPooling1D)  (None, 256, 40)      0           add_4[0][0]                      \n",
            "__________________________________________________________________________________________________\n",
            "conv1d_11 (Conv1D)              (None, 256, 40)      1640        max_pooling1d_2[0][0]            \n",
            "__________________________________________________________________________________________________\n",
            "activation_11 (Activation)      (None, 256, 40)      0           conv1d_11[0][0]                  \n",
            "__________________________________________________________________________________________________\n",
            "conv1d_12 (Conv1D)              (None, 256, 40)      4840        activation_11[0][0]              \n",
            "__________________________________________________________________________________________________\n",
            "activation_12 (Activation)      (None, 256, 40)      0           conv1d_12[0][0]                  \n",
            "__________________________________________________________________________________________________\n",
            "conv1d_13 (Conv1D)              (None, 256, 40)      4840        activation_12[0][0]              \n",
            "__________________________________________________________________________________________________\n",
            "activation_13 (Activation)      (None, 256, 40)      0           conv1d_13[0][0]                  \n",
            "__________________________________________________________________________________________________\n",
            "add_5 (Add)                     (None, 256, 40)      0           activation_13[0][0]              \n",
            "                                                                 activation_11[0][0]              \n",
            "__________________________________________________________________________________________________\n",
            "conv1d_14 (Conv1D)              (None, 256, 40)      4840        add_5[0][0]                      \n",
            "__________________________________________________________________________________________________\n",
            "activation_14 (Activation)      (None, 256, 40)      0           conv1d_14[0][0]                  \n",
            "__________________________________________________________________________________________________\n",
            "conv1d_15 (Conv1D)              (None, 256, 40)      4840        activation_14[0][0]              \n",
            "__________________________________________________________________________________________________\n",
            "activation_15 (Activation)      (None, 256, 40)      0           conv1d_15[0][0]                  \n",
            "__________________________________________________________________________________________________\n",
            "add_6 (Add)                     (None, 256, 40)      0           activation_15[0][0]              \n",
            "                                                                 add_5[0][0]                      \n",
            "__________________________________________________________________________________________________\n",
            "max_pooling1d_3 (MaxPooling1D)  (None, 128, 40)      0           add_6[0][0]                      \n",
            "__________________________________________________________________________________________________\n",
            "conv1d_16 (Conv1D)              (None, 128, 40)      1640        max_pooling1d_3[0][0]            \n",
            "__________________________________________________________________________________________________\n",
            "activation_16 (Activation)      (None, 128, 40)      0           conv1d_16[0][0]                  \n",
            "__________________________________________________________________________________________________\n",
            "conv1d_17 (Conv1D)              (None, 128, 40)      4840        activation_16[0][0]              \n",
            "__________________________________________________________________________________________________\n",
            "activation_17 (Activation)      (None, 128, 40)      0           conv1d_17[0][0]                  \n",
            "__________________________________________________________________________________________________\n",
            "conv1d_18 (Conv1D)              (None, 128, 40)      4840        activation_17[0][0]              \n",
            "__________________________________________________________________________________________________\n",
            "activation_18 (Activation)      (None, 128, 40)      0           conv1d_18[0][0]                  \n",
            "__________________________________________________________________________________________________\n",
            "add_7 (Add)                     (None, 128, 40)      0           activation_18[0][0]              \n",
            "                                                                 activation_16[0][0]              \n",
            "__________________________________________________________________________________________________\n",
            "conv1d_19 (Conv1D)              (None, 128, 40)      4840        add_7[0][0]                      \n",
            "__________________________________________________________________________________________________\n",
            "activation_19 (Activation)      (None, 128, 40)      0           conv1d_19[0][0]                  \n",
            "__________________________________________________________________________________________________\n",
            "conv1d_20 (Conv1D)              (None, 128, 40)      4840        activation_19[0][0]              \n",
            "__________________________________________________________________________________________________\n",
            "activation_20 (Activation)      (None, 128, 40)      0           conv1d_20[0][0]                  \n",
            "__________________________________________________________________________________________________\n",
            "add_8 (Add)                     (None, 128, 40)      0           activation_20[0][0]              \n",
            "                                                                 add_7[0][0]                      \n",
            "__________________________________________________________________________________________________\n",
            "max_pooling1d_4 (MaxPooling1D)  (None, 64, 40)       0           add_8[0][0]                      \n",
            "__________________________________________________________________________________________________\n",
            "conv1d_21 (Conv1D)              (None, 64, 40)       1640        max_pooling1d_4[0][0]            \n",
            "__________________________________________________________________________________________________\n",
            "activation_21 (Activation)      (None, 64, 40)       0           conv1d_21[0][0]                  \n",
            "__________________________________________________________________________________________________\n",
            "conv1d_22 (Conv1D)              (None, 64, 40)       4840        activation_21[0][0]              \n",
            "__________________________________________________________________________________________________\n",
            "activation_22 (Activation)      (None, 64, 40)       0           conv1d_22[0][0]                  \n",
            "__________________________________________________________________________________________________\n",
            "conv1d_23 (Conv1D)              (None, 64, 40)       4840        activation_22[0][0]              \n",
            "__________________________________________________________________________________________________\n",
            "activation_23 (Activation)      (None, 64, 40)       0           conv1d_23[0][0]                  \n",
            "__________________________________________________________________________________________________\n",
            "add_9 (Add)                     (None, 64, 40)       0           activation_23[0][0]              \n",
            "                                                                 activation_21[0][0]              \n",
            "__________________________________________________________________________________________________\n",
            "conv1d_24 (Conv1D)              (None, 64, 40)       4840        add_9[0][0]                      \n",
            "__________________________________________________________________________________________________\n",
            "activation_24 (Activation)      (None, 64, 40)       0           conv1d_24[0][0]                  \n",
            "__________________________________________________________________________________________________\n",
            "conv1d_25 (Conv1D)              (None, 64, 40)       4840        activation_24[0][0]              \n",
            "__________________________________________________________________________________________________\n",
            "activation_25 (Activation)      (None, 64, 40)       0           conv1d_25[0][0]                  \n",
            "__________________________________________________________________________________________________\n",
            "add_10 (Add)                    (None, 64, 40)       0           activation_25[0][0]              \n",
            "                                                                 add_9[0][0]                      \n",
            "__________________________________________________________________________________________________\n",
            "max_pooling1d_5 (MaxPooling1D)  (None, 32, 40)       0           add_10[0][0]                     \n",
            "__________________________________________________________________________________________________\n",
            "flatten_1 (Flatten)             (None, 1280)         0           max_pooling1d_5[0][0]            \n",
            "__________________________________________________________________________________________________\n",
            "dense_1 (Dense)                 (None, 128)          163968      flatten_1[0][0]                  \n",
            "__________________________________________________________________________________________________\n",
            "dropout_1 (Dropout)             (None, 128)          0           dense_1[0][0]                    \n",
            "__________________________________________________________________________________________________\n",
            "dense_2 (Dense)                 (None, 128)          16512       dropout_1[0][0]                  \n",
            "__________________________________________________________________________________________________\n",
            "dropout_2 (Dropout)             (None, 128)          0           dense_2[0][0]                    \n",
            "__________________________________________________________________________________________________\n",
            "dense_3 (Dense)                 (None, 24)           3096        dropout_2[0][0]                  \n",
            "==================================================================================================\n",
            "Total params: 287,056\n",
            "Trainable params: 287,056\n",
            "Non-trainable params: 0\n",
            "__________________________________________________________________________________________________\n",
            "Train on 1022361 samples, validate on 127795 samples\n",
            "Epoch 1/10\n"
          ],
          "name": "stdout"
        }
      ]
    },
    {
      "cell_type": "markdown",
      "metadata": {
        "id": "Gu9LVL3aVGTV",
        "colab_type": "text"
      },
      "source": [
        "<h1>Save Model History</h1>"
      ]
    },
    {
      "cell_type": "code",
      "metadata": {
        "id": "Ey-6eRGhp2bL",
        "colab_type": "code",
        "colab": {}
      },
      "source": [
        "# record model history\n",
        "train_acc = history.history['acc']\n",
        "train_loss = history.history['loss']\n",
        "val_acc = history.history['val_acc']\n",
        "val_loss = history.history['val_loss']\n",
        "\n",
        "if save_history is True:\n",
        "    # save model history: loss and accuracy\n",
        "    np.save(history_path + '/train_acc.npy', train_acc)\n",
        "    np.save(history_path + '/train_loss.npy', train_loss)\n",
        "    np.save(history_path + '/val_acc.npy', val_acc)\n",
        "    np.save(history_path + '/val_loss.npy', val_loss)\n",
        "    print(\"Model History Saved!\")\n",
        "    print('\\n')"
      ],
      "execution_count": 0,
      "outputs": []
    },
    {
      "cell_type": "markdown",
      "metadata": {
        "id": "k6vrh_mAVKym",
        "colab_type": "text"
      },
      "source": [
        "<h1>Evaluate Model on Test Data</h1>"
      ]
    },
    {
      "cell_type": "code",
      "metadata": {
        "id": "DGUC3-lcca7m",
        "colab_type": "code",
        "colab": {}
      },
      "source": [
        "# evaluate model on test data\n",
        "loss, acc = model.evaluate(x_test, y_test, batch_size=32)\n",
        "print('EVALUATING MODEL ON TEST DATA:')\n",
        "print('Test Accuracy: ', str(round(acc*100, 2)), '%')\n",
        "print('\\n')"
      ],
      "execution_count": 0,
      "outputs": []
    }
  ]
}